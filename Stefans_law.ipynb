{
 "cells": [
  {
   "cell_type": "markdown",
   "id": "06f54d4f",
   "metadata": {},
   "source": [
    "# Aim"
   ]
  },
  {
   "cell_type": "markdown",
   "id": "38a094e0",
   "metadata": {},
   "source": [
    "To verify Stefan's law of radiation by electrical method.\n"
   ]
  },
  {
   "cell_type": "code",
   "execution_count": 47,
   "id": "5bc7cffb",
   "metadata": {},
   "outputs": [],
   "source": [
    "# import libraries\n",
    "import pandas as pd\n",
    "import numpy as np\n",
    "import matplotlib.pyplot as plt\n",
    "import seaborn as sns"
   ]
  },
  {
   "cell_type": "code",
   "execution_count": 48,
   "id": "d5dced70",
   "metadata": {},
   "outputs": [],
   "source": [
    "# load datafile\n",
    "df=pd.read_excel('C:/Users/ambik/OneDrive/Desktop/Stefan_law.xlsx')"
   ]
  },
  {
   "cell_type": "code",
   "execution_count": 49,
   "id": "4828bde0",
   "metadata": {},
   "outputs": [
    {
     "data": {
      "text/html": [
       "<div>\n",
       "<style scoped>\n",
       "    .dataframe tbody tr th:only-of-type {\n",
       "        vertical-align: middle;\n",
       "    }\n",
       "\n",
       "    .dataframe tbody tr th {\n",
       "        vertical-align: top;\n",
       "    }\n",
       "\n",
       "    .dataframe thead th {\n",
       "        text-align: right;\n",
       "    }\n",
       "</style>\n",
       "<table border=\"1\" class=\"dataframe\">\n",
       "  <thead>\n",
       "    <tr style=\"text-align: right;\">\n",
       "      <th></th>\n",
       "      <th>V</th>\n",
       "      <th>I</th>\n",
       "    </tr>\n",
       "  </thead>\n",
       "  <tbody>\n",
       "    <tr>\n",
       "      <th>0</th>\n",
       "      <td>1.8</td>\n",
       "      <td>0.0525</td>\n",
       "    </tr>\n",
       "    <tr>\n",
       "      <th>1</th>\n",
       "      <td>2.2</td>\n",
       "      <td>0.0600</td>\n",
       "    </tr>\n",
       "    <tr>\n",
       "      <th>2</th>\n",
       "      <td>2.6</td>\n",
       "      <td>0.0625</td>\n",
       "    </tr>\n",
       "    <tr>\n",
       "      <th>3</th>\n",
       "      <td>3.0</td>\n",
       "      <td>0.0700</td>\n",
       "    </tr>\n",
       "    <tr>\n",
       "      <th>4</th>\n",
       "      <td>3.4</td>\n",
       "      <td>0.0725</td>\n",
       "    </tr>\n",
       "  </tbody>\n",
       "</table>\n",
       "</div>"
      ],
      "text/plain": [
       "     V       I\n",
       "0  1.8  0.0525\n",
       "1  2.2  0.0600\n",
       "2  2.6  0.0625\n",
       "3  3.0  0.0700\n",
       "4  3.4  0.0725"
      ]
     },
     "execution_count": 49,
     "metadata": {},
     "output_type": "execute_result"
    }
   ],
   "source": [
    "# check top 5 records of the data file\n",
    "df.head()"
   ]
  },
  {
   "cell_type": "code",
   "execution_count": 50,
   "id": "d2e78fec",
   "metadata": {},
   "outputs": [
    {
     "data": {
      "text/plain": [
       "V    float64\n",
       "I    float64\n",
       "dtype: object"
      ]
     },
     "execution_count": 50,
     "metadata": {},
     "output_type": "execute_result"
    }
   ],
   "source": [
    "# check datatypes of the columns\n",
    "df.dtypes"
   ]
  },
  {
   "cell_type": "code",
   "execution_count": 51,
   "id": "d02a4823",
   "metadata": {},
   "outputs": [],
   "source": [
    "# add power (P=V*I) column to dataframe\n",
    "df['P']=df['V']*df['I']"
   ]
  },
  {
   "cell_type": "code",
   "execution_count": 52,
   "id": "28dcf775",
   "metadata": {},
   "outputs": [
    {
     "data": {
      "text/html": [
       "<div>\n",
       "<style scoped>\n",
       "    .dataframe tbody tr th:only-of-type {\n",
       "        vertical-align: middle;\n",
       "    }\n",
       "\n",
       "    .dataframe tbody tr th {\n",
       "        vertical-align: top;\n",
       "    }\n",
       "\n",
       "    .dataframe thead th {\n",
       "        text-align: right;\n",
       "    }\n",
       "</style>\n",
       "<table border=\"1\" class=\"dataframe\">\n",
       "  <thead>\n",
       "    <tr style=\"text-align: right;\">\n",
       "      <th></th>\n",
       "      <th>V</th>\n",
       "      <th>I</th>\n",
       "      <th>P</th>\n",
       "    </tr>\n",
       "  </thead>\n",
       "  <tbody>\n",
       "    <tr>\n",
       "      <th>0</th>\n",
       "      <td>1.8</td>\n",
       "      <td>0.0525</td>\n",
       "      <td>0.0945</td>\n",
       "    </tr>\n",
       "    <tr>\n",
       "      <th>1</th>\n",
       "      <td>2.2</td>\n",
       "      <td>0.0600</td>\n",
       "      <td>0.1320</td>\n",
       "    </tr>\n",
       "    <tr>\n",
       "      <th>2</th>\n",
       "      <td>2.6</td>\n",
       "      <td>0.0625</td>\n",
       "      <td>0.1625</td>\n",
       "    </tr>\n",
       "    <tr>\n",
       "      <th>3</th>\n",
       "      <td>3.0</td>\n",
       "      <td>0.0700</td>\n",
       "      <td>0.2100</td>\n",
       "    </tr>\n",
       "    <tr>\n",
       "      <th>4</th>\n",
       "      <td>3.4</td>\n",
       "      <td>0.0725</td>\n",
       "      <td>0.2465</td>\n",
       "    </tr>\n",
       "  </tbody>\n",
       "</table>\n",
       "</div>"
      ],
      "text/plain": [
       "     V       I       P\n",
       "0  1.8  0.0525  0.0945\n",
       "1  2.2  0.0600  0.1320\n",
       "2  2.6  0.0625  0.1625\n",
       "3  3.0  0.0700  0.2100\n",
       "4  3.4  0.0725  0.2465"
      ]
     },
     "execution_count": 52,
     "metadata": {},
     "output_type": "execute_result"
    }
   ],
   "source": [
    "#check column is added\n",
    "df.head()"
   ]
  },
  {
   "cell_type": "code",
   "execution_count": 53,
   "id": "2a143dd5",
   "metadata": {},
   "outputs": [
    {
     "data": {
      "text/html": [
       "<div>\n",
       "<style scoped>\n",
       "    .dataframe tbody tr th:only-of-type {\n",
       "        vertical-align: middle;\n",
       "    }\n",
       "\n",
       "    .dataframe tbody tr th {\n",
       "        vertical-align: top;\n",
       "    }\n",
       "\n",
       "    .dataframe thead th {\n",
       "        text-align: right;\n",
       "    }\n",
       "</style>\n",
       "<table border=\"1\" class=\"dataframe\">\n",
       "  <thead>\n",
       "    <tr style=\"text-align: right;\">\n",
       "      <th></th>\n",
       "      <th>V</th>\n",
       "      <th>I</th>\n",
       "      <th>P</th>\n",
       "      <th>R</th>\n",
       "    </tr>\n",
       "  </thead>\n",
       "  <tbody>\n",
       "    <tr>\n",
       "      <th>0</th>\n",
       "      <td>1.8</td>\n",
       "      <td>0.0525</td>\n",
       "      <td>0.09450</td>\n",
       "      <td>34.285714</td>\n",
       "    </tr>\n",
       "    <tr>\n",
       "      <th>1</th>\n",
       "      <td>2.2</td>\n",
       "      <td>0.0600</td>\n",
       "      <td>0.13200</td>\n",
       "      <td>36.666667</td>\n",
       "    </tr>\n",
       "    <tr>\n",
       "      <th>2</th>\n",
       "      <td>2.6</td>\n",
       "      <td>0.0625</td>\n",
       "      <td>0.16250</td>\n",
       "      <td>41.600000</td>\n",
       "    </tr>\n",
       "    <tr>\n",
       "      <th>3</th>\n",
       "      <td>3.0</td>\n",
       "      <td>0.0700</td>\n",
       "      <td>0.21000</td>\n",
       "      <td>42.857143</td>\n",
       "    </tr>\n",
       "    <tr>\n",
       "      <th>4</th>\n",
       "      <td>3.4</td>\n",
       "      <td>0.0725</td>\n",
       "      <td>0.24650</td>\n",
       "      <td>46.896552</td>\n",
       "    </tr>\n",
       "    <tr>\n",
       "      <th>5</th>\n",
       "      <td>3.8</td>\n",
       "      <td>0.0775</td>\n",
       "      <td>0.29450</td>\n",
       "      <td>49.032258</td>\n",
       "    </tr>\n",
       "    <tr>\n",
       "      <th>6</th>\n",
       "      <td>4.2</td>\n",
       "      <td>0.0823</td>\n",
       "      <td>0.34566</td>\n",
       "      <td>51.032807</td>\n",
       "    </tr>\n",
       "    <tr>\n",
       "      <th>7</th>\n",
       "      <td>4.6</td>\n",
       "      <td>0.0875</td>\n",
       "      <td>0.40250</td>\n",
       "      <td>52.571429</td>\n",
       "    </tr>\n",
       "    <tr>\n",
       "      <th>8</th>\n",
       "      <td>5.0</td>\n",
       "      <td>0.0900</td>\n",
       "      <td>0.45000</td>\n",
       "      <td>55.555556</td>\n",
       "    </tr>\n",
       "    <tr>\n",
       "      <th>9</th>\n",
       "      <td>5.4</td>\n",
       "      <td>0.0950</td>\n",
       "      <td>0.51300</td>\n",
       "      <td>56.842105</td>\n",
       "    </tr>\n",
       "    <tr>\n",
       "      <th>10</th>\n",
       "      <td>5.8</td>\n",
       "      <td>0.0975</td>\n",
       "      <td>0.56550</td>\n",
       "      <td>59.487179</td>\n",
       "    </tr>\n",
       "    <tr>\n",
       "      <th>11</th>\n",
       "      <td>6.2</td>\n",
       "      <td>0.1025</td>\n",
       "      <td>0.63550</td>\n",
       "      <td>60.487805</td>\n",
       "    </tr>\n",
       "    <tr>\n",
       "      <th>12</th>\n",
       "      <td>6.6</td>\n",
       "      <td>0.1050</td>\n",
       "      <td>0.69300</td>\n",
       "      <td>62.857143</td>\n",
       "    </tr>\n",
       "    <tr>\n",
       "      <th>13</th>\n",
       "      <td>7.0</td>\n",
       "      <td>0.1100</td>\n",
       "      <td>0.77000</td>\n",
       "      <td>63.636364</td>\n",
       "    </tr>\n",
       "    <tr>\n",
       "      <th>14</th>\n",
       "      <td>7.4</td>\n",
       "      <td>0.1125</td>\n",
       "      <td>0.83250</td>\n",
       "      <td>65.777778</td>\n",
       "    </tr>\n",
       "    <tr>\n",
       "      <th>15</th>\n",
       "      <td>7.8</td>\n",
       "      <td>0.1150</td>\n",
       "      <td>0.89700</td>\n",
       "      <td>67.826087</td>\n",
       "    </tr>\n",
       "    <tr>\n",
       "      <th>16</th>\n",
       "      <td>8.2</td>\n",
       "      <td>0.1200</td>\n",
       "      <td>0.98400</td>\n",
       "      <td>68.333333</td>\n",
       "    </tr>\n",
       "    <tr>\n",
       "      <th>17</th>\n",
       "      <td>8.6</td>\n",
       "      <td>0.1225</td>\n",
       "      <td>1.05350</td>\n",
       "      <td>70.204082</td>\n",
       "    </tr>\n",
       "    <tr>\n",
       "      <th>18</th>\n",
       "      <td>9.0</td>\n",
       "      <td>0.1250</td>\n",
       "      <td>1.12500</td>\n",
       "      <td>72.000000</td>\n",
       "    </tr>\n",
       "    <tr>\n",
       "      <th>19</th>\n",
       "      <td>9.4</td>\n",
       "      <td>0.1275</td>\n",
       "      <td>1.19850</td>\n",
       "      <td>73.725490</td>\n",
       "    </tr>\n",
       "  </tbody>\n",
       "</table>\n",
       "</div>"
      ],
      "text/plain": [
       "      V       I        P          R\n",
       "0   1.8  0.0525  0.09450  34.285714\n",
       "1   2.2  0.0600  0.13200  36.666667\n",
       "2   2.6  0.0625  0.16250  41.600000\n",
       "3   3.0  0.0700  0.21000  42.857143\n",
       "4   3.4  0.0725  0.24650  46.896552\n",
       "5   3.8  0.0775  0.29450  49.032258\n",
       "6   4.2  0.0823  0.34566  51.032807\n",
       "7   4.6  0.0875  0.40250  52.571429\n",
       "8   5.0  0.0900  0.45000  55.555556\n",
       "9   5.4  0.0950  0.51300  56.842105\n",
       "10  5.8  0.0975  0.56550  59.487179\n",
       "11  6.2  0.1025  0.63550  60.487805\n",
       "12  6.6  0.1050  0.69300  62.857143\n",
       "13  7.0  0.1100  0.77000  63.636364\n",
       "14  7.4  0.1125  0.83250  65.777778\n",
       "15  7.8  0.1150  0.89700  67.826087\n",
       "16  8.2  0.1200  0.98400  68.333333\n",
       "17  8.6  0.1225  1.05350  70.204082\n",
       "18  9.0  0.1250  1.12500  72.000000\n",
       "19  9.4  0.1275  1.19850  73.725490"
      ]
     },
     "execution_count": 53,
     "metadata": {},
     "output_type": "execute_result"
    }
   ],
   "source": [
    "# add Resistance (R=V/I) column to data and check the datafile\n",
    "df['R']=df['V']/df['I']\n",
    "df"
   ]
  },
  {
   "cell_type": "code",
   "execution_count": 54,
   "id": "8368f8d1",
   "metadata": {},
   "outputs": [],
   "source": [
    "# import math library to calculate log values of power and resistance and add new columns log P and log R\n",
    "import math\n",
    "from math import log\n",
    "df['log P']=df['P'].apply(lambda x: float(math.log(x)))\n",
    "df['log R']=df['R'].apply(lambda x: float(math.log(x)))"
   ]
  },
  {
   "cell_type": "code",
   "execution_count": 55,
   "id": "95314752",
   "metadata": {},
   "outputs": [
    {
     "data": {
      "text/html": [
       "<div>\n",
       "<style scoped>\n",
       "    .dataframe tbody tr th:only-of-type {\n",
       "        vertical-align: middle;\n",
       "    }\n",
       "\n",
       "    .dataframe tbody tr th {\n",
       "        vertical-align: top;\n",
       "    }\n",
       "\n",
       "    .dataframe thead th {\n",
       "        text-align: right;\n",
       "    }\n",
       "</style>\n",
       "<table border=\"1\" class=\"dataframe\">\n",
       "  <thead>\n",
       "    <tr style=\"text-align: right;\">\n",
       "      <th></th>\n",
       "      <th>V</th>\n",
       "      <th>I</th>\n",
       "      <th>P</th>\n",
       "      <th>R</th>\n",
       "      <th>log P</th>\n",
       "      <th>log R</th>\n",
       "    </tr>\n",
       "  </thead>\n",
       "  <tbody>\n",
       "    <tr>\n",
       "      <th>0</th>\n",
       "      <td>1.8</td>\n",
       "      <td>0.0525</td>\n",
       "      <td>0.09450</td>\n",
       "      <td>34.285714</td>\n",
       "      <td>-2.359155</td>\n",
       "      <td>3.534729</td>\n",
       "    </tr>\n",
       "    <tr>\n",
       "      <th>1</th>\n",
       "      <td>2.2</td>\n",
       "      <td>0.0600</td>\n",
       "      <td>0.13200</td>\n",
       "      <td>36.666667</td>\n",
       "      <td>-2.024953</td>\n",
       "      <td>3.601868</td>\n",
       "    </tr>\n",
       "    <tr>\n",
       "      <th>2</th>\n",
       "      <td>2.6</td>\n",
       "      <td>0.0625</td>\n",
       "      <td>0.16250</td>\n",
       "      <td>41.600000</td>\n",
       "      <td>-1.817077</td>\n",
       "      <td>3.728100</td>\n",
       "    </tr>\n",
       "    <tr>\n",
       "      <th>3</th>\n",
       "      <td>3.0</td>\n",
       "      <td>0.0700</td>\n",
       "      <td>0.21000</td>\n",
       "      <td>42.857143</td>\n",
       "      <td>-1.560648</td>\n",
       "      <td>3.757872</td>\n",
       "    </tr>\n",
       "    <tr>\n",
       "      <th>4</th>\n",
       "      <td>3.4</td>\n",
       "      <td>0.0725</td>\n",
       "      <td>0.24650</td>\n",
       "      <td>46.896552</td>\n",
       "      <td>-1.400393</td>\n",
       "      <td>3.847944</td>\n",
       "    </tr>\n",
       "    <tr>\n",
       "      <th>5</th>\n",
       "      <td>3.8</td>\n",
       "      <td>0.0775</td>\n",
       "      <td>0.29450</td>\n",
       "      <td>49.032258</td>\n",
       "      <td>-1.222476</td>\n",
       "      <td>3.892478</td>\n",
       "    </tr>\n",
       "    <tr>\n",
       "      <th>6</th>\n",
       "      <td>4.2</td>\n",
       "      <td>0.0823</td>\n",
       "      <td>0.34566</td>\n",
       "      <td>51.032807</td>\n",
       "      <td>-1.062300</td>\n",
       "      <td>3.932469</td>\n",
       "    </tr>\n",
       "    <tr>\n",
       "      <th>7</th>\n",
       "      <td>4.6</td>\n",
       "      <td>0.0875</td>\n",
       "      <td>0.40250</td>\n",
       "      <td>52.571429</td>\n",
       "      <td>-0.910060</td>\n",
       "      <td>3.962173</td>\n",
       "    </tr>\n",
       "    <tr>\n",
       "      <th>8</th>\n",
       "      <td>5.0</td>\n",
       "      <td>0.0900</td>\n",
       "      <td>0.45000</td>\n",
       "      <td>55.555556</td>\n",
       "      <td>-0.798508</td>\n",
       "      <td>4.017384</td>\n",
       "    </tr>\n",
       "    <tr>\n",
       "      <th>9</th>\n",
       "      <td>5.4</td>\n",
       "      <td>0.0950</td>\n",
       "      <td>0.51300</td>\n",
       "      <td>56.842105</td>\n",
       "      <td>-0.667479</td>\n",
       "      <td>4.040277</td>\n",
       "    </tr>\n",
       "    <tr>\n",
       "      <th>10</th>\n",
       "      <td>5.8</td>\n",
       "      <td>0.0975</td>\n",
       "      <td>0.56550</td>\n",
       "      <td>59.487179</td>\n",
       "      <td>-0.570045</td>\n",
       "      <td>4.085761</td>\n",
       "    </tr>\n",
       "    <tr>\n",
       "      <th>11</th>\n",
       "      <td>6.2</td>\n",
       "      <td>0.1025</td>\n",
       "      <td>0.63550</td>\n",
       "      <td>60.487805</td>\n",
       "      <td>-0.453343</td>\n",
       "      <td>4.102442</td>\n",
       "    </tr>\n",
       "    <tr>\n",
       "      <th>12</th>\n",
       "      <td>6.6</td>\n",
       "      <td>0.1050</td>\n",
       "      <td>0.69300</td>\n",
       "      <td>62.857143</td>\n",
       "      <td>-0.366725</td>\n",
       "      <td>4.140865</td>\n",
       "    </tr>\n",
       "    <tr>\n",
       "      <th>13</th>\n",
       "      <td>7.0</td>\n",
       "      <td>0.1100</td>\n",
       "      <td>0.77000</td>\n",
       "      <td>63.636364</td>\n",
       "      <td>-0.261365</td>\n",
       "      <td>4.153185</td>\n",
       "    </tr>\n",
       "    <tr>\n",
       "      <th>14</th>\n",
       "      <td>7.4</td>\n",
       "      <td>0.1125</td>\n",
       "      <td>0.83250</td>\n",
       "      <td>65.777778</td>\n",
       "      <td>-0.183322</td>\n",
       "      <td>4.186282</td>\n",
       "    </tr>\n",
       "    <tr>\n",
       "      <th>15</th>\n",
       "      <td>7.8</td>\n",
       "      <td>0.1150</td>\n",
       "      <td>0.89700</td>\n",
       "      <td>67.826087</td>\n",
       "      <td>-0.108699</td>\n",
       "      <td>4.216947</td>\n",
       "    </tr>\n",
       "    <tr>\n",
       "      <th>16</th>\n",
       "      <td>8.2</td>\n",
       "      <td>0.1200</td>\n",
       "      <td>0.98400</td>\n",
       "      <td>68.333333</td>\n",
       "      <td>-0.016129</td>\n",
       "      <td>4.224398</td>\n",
       "    </tr>\n",
       "    <tr>\n",
       "      <th>17</th>\n",
       "      <td>8.6</td>\n",
       "      <td>0.1225</td>\n",
       "      <td>1.05350</td>\n",
       "      <td>70.204082</td>\n",
       "      <td>0.052118</td>\n",
       "      <td>4.251406</td>\n",
       "    </tr>\n",
       "    <tr>\n",
       "      <th>18</th>\n",
       "      <td>9.0</td>\n",
       "      <td>0.1250</td>\n",
       "      <td>1.12500</td>\n",
       "      <td>72.000000</td>\n",
       "      <td>0.117783</td>\n",
       "      <td>4.276666</td>\n",
       "    </tr>\n",
       "    <tr>\n",
       "      <th>19</th>\n",
       "      <td>9.4</td>\n",
       "      <td>0.1275</td>\n",
       "      <td>1.19850</td>\n",
       "      <td>73.725490</td>\n",
       "      <td>0.181071</td>\n",
       "      <td>4.300349</td>\n",
       "    </tr>\n",
       "  </tbody>\n",
       "</table>\n",
       "</div>"
      ],
      "text/plain": [
       "      V       I        P          R     log P     log R\n",
       "0   1.8  0.0525  0.09450  34.285714 -2.359155  3.534729\n",
       "1   2.2  0.0600  0.13200  36.666667 -2.024953  3.601868\n",
       "2   2.6  0.0625  0.16250  41.600000 -1.817077  3.728100\n",
       "3   3.0  0.0700  0.21000  42.857143 -1.560648  3.757872\n",
       "4   3.4  0.0725  0.24650  46.896552 -1.400393  3.847944\n",
       "5   3.8  0.0775  0.29450  49.032258 -1.222476  3.892478\n",
       "6   4.2  0.0823  0.34566  51.032807 -1.062300  3.932469\n",
       "7   4.6  0.0875  0.40250  52.571429 -0.910060  3.962173\n",
       "8   5.0  0.0900  0.45000  55.555556 -0.798508  4.017384\n",
       "9   5.4  0.0950  0.51300  56.842105 -0.667479  4.040277\n",
       "10  5.8  0.0975  0.56550  59.487179 -0.570045  4.085761\n",
       "11  6.2  0.1025  0.63550  60.487805 -0.453343  4.102442\n",
       "12  6.6  0.1050  0.69300  62.857143 -0.366725  4.140865\n",
       "13  7.0  0.1100  0.77000  63.636364 -0.261365  4.153185\n",
       "14  7.4  0.1125  0.83250  65.777778 -0.183322  4.186282\n",
       "15  7.8  0.1150  0.89700  67.826087 -0.108699  4.216947\n",
       "16  8.2  0.1200  0.98400  68.333333 -0.016129  4.224398\n",
       "17  8.6  0.1225  1.05350  70.204082  0.052118  4.251406\n",
       "18  9.0  0.1250  1.12500  72.000000  0.117783  4.276666\n",
       "19  9.4  0.1275  1.19850  73.725490  0.181071  4.300349"
      ]
     },
     "execution_count": 55,
     "metadata": {},
     "output_type": "execute_result"
    }
   ],
   "source": [
    "# again check the data\n",
    "df"
   ]
  },
  {
   "cell_type": "code",
   "execution_count": 56,
   "id": "5e63da93",
   "metadata": {},
   "outputs": [
    {
     "data": {
      "image/png": "[encoded data removed]",
      "text/plain": [
       "<Figure size 1000x500 with 1 Axes>"
      ]
     },
     "metadata": {},
     "output_type": "display_data"
    },
    {
     "data": {
      "image/png": "[encoded data removed]",
      "text/plain": [
       "<Figure size 1000x500 with 1 Axes>"
      ]
     },
     "metadata": {},
     "output_type": "display_data"
    }
   ],
   "source": [
    "# Scatter plot of log R and log R features\n",
    "plt.figure(figsize=(10,5))\n",
    "sns.scatterplot(data=df,x='log R',y='log P',color='blue',edgecolor='linen',alpha=0.5)\n",
    "plt.title(\"Scatter plot of log P vs log R\")\n",
    "plt.xlabel('log R')\n",
    "plt.ylabel('log P')\n",
    "plt.show()\n",
    "\n",
    "# Scatter plot of I and V features\n",
    "plt.figure(figsize=(10,5))\n",
    "sns.scatterplot(data=df,x='V',y='I',color='blue',edgecolor='linen',alpha=0.5)\n",
    "plt.title(\"Scatter plot of I vs V\")\n",
    "plt.xlabel('V')\n",
    "plt.ylabel('I')\n",
    "plt.show()"
   ]
  },
  {
   "cell_type": "code",
   "execution_count": 57,
   "id": "f6c31d3b",
   "metadata": {},
   "outputs": [],
   "source": [
    "# Choose columns as X and y\n",
    "X=df.iloc[:,-1].values\n",
    "y=df.iloc[:,-2].values"
   ]
  },
  {
   "cell_type": "code",
   "execution_count": 58,
   "id": "d605944f",
   "metadata": {},
   "outputs": [
    {
     "data": {
      "text/plain": [
       "(20, 1)"
      ]
     },
     "execution_count": 58,
     "metadata": {},
     "output_type": "execute_result"
    }
   ],
   "source": [
    "# As we have only 1 feature, so reshape X column\n",
    "X=X.reshape(-1,1)\n",
    "X.shape"
   ]
  },
  {
   "cell_type": "code",
   "execution_count": 59,
   "id": "317f8270",
   "metadata": {},
   "outputs": [
    {
     "data": {
      "text/plain": [
       "(20,)"
      ]
     },
     "execution_count": 59,
     "metadata": {},
     "output_type": "execute_result"
    }
   ],
   "source": [
    "# check the shape of y\n",
    "y.shape"
   ]
  },
  {
   "cell_type": "code",
   "execution_count": 60,
   "id": "54bdad05",
   "metadata": {},
   "outputs": [],
   "source": [
    "# divide the data to test and training set\n",
    "from sklearn.model_selection import train_test_split\n",
    "x_train, x_test, y_train, y_test= train_test_split(X,y, train_size=0.66, random_state=20) # random_state gives constant information"
   ]
  },
  {
   "cell_type": "code",
   "execution_count": 61,
   "id": "755b1b40",
   "metadata": {},
   "outputs": [],
   "source": [
    "# apply linear Regressiong model\n",
    "from sklearn.linear_model import LinearRegression\n",
    "model = LinearRegression().fit(x_train, y_train)"
   ]
  },
  {
   "cell_type": "code",
   "execution_count": 62,
   "id": "88a7a8c9",
   "metadata": {},
   "outputs": [
    {
     "name": "stdout",
     "output_type": "stream",
     "text": [
      "-14.218177655063737\n",
      "[3.34873763]\n"
     ]
    }
   ],
   "source": [
    "#To retrieve the intercept:\n",
    "print(model.intercept_)\n",
    "\n",
    "#For retrieving the slope:\n",
    "print(model.coef_)"
   ]
  },
  {
   "cell_type": "code",
   "execution_count": 63,
   "id": "ef36a22b",
   "metadata": {},
   "outputs": [],
   "source": [
    "# predict the values\n",
    "y_predict=model.predict(x_test)"
   ]
  },
  {
   "cell_type": "code",
   "execution_count": 64,
   "id": "70f96a24",
   "metadata": {},
   "outputs": [],
   "source": [
    "from sklearn.metrics import r2_score"
   ]
  },
  {
   "cell_type": "code",
   "execution_count": 65,
   "id": "e0ff6208",
   "metadata": {},
   "outputs": [
    {
     "data": {
      "text/plain": [
       "0.9919535674863179"
      ]
     },
     "execution_count": 65,
     "metadata": {},
     "output_type": "execute_result"
    }
   ],
   "source": [
    "# find r-squared (how well the data fit the regression model)\n",
    "r2_score(y_test, y_predict)"
   ]
  },
  {
   "cell_type": "code",
   "execution_count": 66,
   "id": "7acbfe50",
   "metadata": {},
   "outputs": [
    {
     "data": {
      "image/png": "[encoded data removed]",
      "text/plain": [
       "<Figure size 640x480 with 1 Axes>"
      ]
     },
     "metadata": {},
     "output_type": "display_data"
    }
   ],
   "source": [
    "plt.scatter(x_test,y_test,color='red')\n",
    "plt.plot(x_test,y_predict)\n",
    "plt.title(\"Scatter plot of log P vs log R\")\n",
    "plt.xlabel('log R')\n",
    "plt.ylabel('log P')\n",
    "plt.show()"
   ]
  },
  {
   "cell_type": "code",
   "execution_count": null,
   "id": "1010615a",
   "metadata": {},
   "outputs": [],
   "source": []
  },
  {
   "cell_type": "code",
   "execution_count": 67,
   "id": "0596ef61",
   "metadata": {},
   "outputs": [],
   "source": [
    "train_predict=model.predict(x_train)"
   ]
  },
  {
   "cell_type": "code",
   "execution_count": 68,
   "id": "a5df97be",
   "metadata": {},
   "outputs": [
    {
     "data": {
      "image/png": "[encoded data removed]",
      "text/plain": [
       "<Figure size 640x480 with 1 Axes>"
      ]
     },
     "metadata": {},
     "output_type": "display_data"
    }
   ],
   "source": [
    "plt.scatter(x_train,y_train,color='red')\n",
    "plt.plot(x_train,train_predict)\n",
    "plt.title(\"Scatter plot of log P vs log R\")\n",
    "plt.xlabel('log R')\n",
    "plt.ylabel('log P')\n",
    "plt.show()"
   ]
  },
  {
   "cell_type": "markdown",
   "id": "2eba6e39",
   "metadata": {},
   "source": [
    "Conclusion: The curve between Log P and log R shows a linear relation between the data. The slope of the best fit line is 3.3487 which is close to 4 with r2 score 99.19 %. Hence, the result is verified. \n"
   ]
  },
  {
   "cell_type": "code",
   "execution_count": null,
   "id": "ed8d87e3",
   "metadata": {},
   "outputs": [],
   "source": []
  }
 ],
 "metadata": {
  "kernelspec": {
   "display_name": "Python 3 (ipykernel)",
   "language": "python",
   "name": "python3"
  },
  "language_info": {
   "codemirror_mode": {
    "name": "ipython",
    "version": 3
   },
   "file_extension": ".py",
   "mimetype": "text/x-python",
   "name": "python",
   "nbconvert_exporter": "python",
   "pygments_lexer": "ipython3",
   "version": "3.9.13"
  }
 },
 "nbformat": 4,
 "nbformat_minor": 5
}
